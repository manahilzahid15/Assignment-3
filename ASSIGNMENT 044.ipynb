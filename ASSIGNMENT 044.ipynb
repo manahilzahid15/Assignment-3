{
 "cells": [
  {
   "cell_type": "markdown",
   "id": "f17df162-7ec1-4218-91a7-8409a08a08df",
   "metadata": {},
   "source": [
    "# Manahil Zahid \n",
    "# SP25-BBD-044\n",
    "# Practice Questions\n"
   ]
  },
  {
   "cell_type": "markdown",
   "id": "3161b5a5-27f6-44b5-8cb1-29667c7b436a",
   "metadata": {},
   "source": [
    "## Part a"
   ]
  },
  {
   "cell_type": "code",
   "execution_count": 3,
   "id": "b5529c08-33cc-4cfd-add1-d32e3f0d0566",
   "metadata": {},
   "outputs": [
    {
     "name": "stdout",
     "output_type": "stream",
     "text": [
      "{'name': 'Manahil', 'age': 18, 'city': 'Lahore', 'roll no.': 44}\n"
     ]
    }
   ],
   "source": [
    "person = { \"name\": \"Manahil\", \"age\": 18, \"city\": \"Lahore\", \"roll no.\": 44}\n",
    "\n",
    "print(person)\n"
   ]
  },
  {
   "cell_type": "markdown",
   "id": "1aa175dc-c10d-4c12-a2f8-92c9d3f119a7",
   "metadata": {},
   "source": [
    "## Part b"
   ]
  },
  {
   "cell_type": "code",
   "execution_count": 20,
   "id": "d3df0196-4f43-4d9a-bfff-e41c6012dd09",
   "metadata": {},
   "outputs": [
    {
     "name": "stdin",
     "output_type": "stream",
     "text": [
      "enter text: hi hello hello\n"
     ]
    },
    {
     "name": "stdout",
     "output_type": "stream",
     "text": [
      "Counter({'hello': 2, 'hi': 1})\n"
     ]
    }
   ],
   "source": [
    "from collections import Counter\n",
    "text = input(\"enter text:\")\n",
    "words = text.lower().split()\n",
    "word_count = Counter(words)\n",
    "print(word_count)\n"
   ]
  },
  {
   "cell_type": "markdown",
   "id": "ce3368e1-59b9-40ee-9715-7c34d5a78d79",
   "metadata": {},
   "source": [
    "## Part c"
   ]
  },
  {
   "cell_type": "code",
   "execution_count": 22,
   "id": "106d4323-3fe3-4460-be7e-4339dcb5aa35",
   "metadata": {},
   "outputs": [
    {
     "name": "stdout",
     "output_type": "stream",
     "text": [
      "Current Inventory:\n",
      "icecream: 15\n",
      "chocolate: 8\n"
     ]
    }
   ],
   "source": [
    "inventory = {\"icecream\": 10, \"chocolate\": 5,  \"candy\": 8}\n",
    "inventory[\"icecream\"] = 15\n",
    "inventory[\"chocolate\"] += 3\n",
    "del inventory[\"candy\"]\n",
    "print(\"Current Inventory:\")\n",
    "for item, quantity in inventory.items():\n",
    "    print(f\"{item}: {quantity}\")\n"
   ]
  },
  {
   "cell_type": "markdown",
   "id": "6a8b2350-473b-4178-93a1-7433380d9457",
   "metadata": {},
   "source": [
    "## Part d"
   ]
  },
  {
   "cell_type": "code",
   "execution_count": 27,
   "id": "e750ad9a-ab4d-4a64-984a-d5a9086bd06c",
   "metadata": {},
   "outputs": [
    {
     "name": "stdout",
     "output_type": "stream",
     "text": [
      "Most popular category: Bakery (3 orders)\n"
     ]
    }
   ],
   "source": [
    "orders = [\n",
    "    {\"customer\": \"Ali\", \"category\": \"Bakery\"},\n",
    "    {\"customer\": \"Sara\", \"category\": \"Beverages\"},\n",
    "    {\"customer\": \"Ahmed\", \"category\": \"Bakery\"},\n",
    "    {\"customer\": \"Zara\", \"category\": \"Snacks\"},\n",
    "    {\"customer\": \"Usman\", \"category\": \"Bakery\"}\n",
    "]\n",
    "\n",
    "category_count = {}\n",
    "\n",
    "for order in orders:\n",
    "    category = order[\"category\"]\n",
    "    if category in category_count:\n",
    "        category_count[category] += 1\n",
    "    else:\n",
    "        category_count[category] = 1\n",
    "\n",
    "for category, count in category_count.items():\n",
    "    if count == max(category_count.values()):\n",
    "        print(f\"Most popular category: {category} ({count} orders)\")\n",
    "        \n"
   ]
  },
  {
   "cell_type": "markdown",
   "id": "ef28c250-7a5d-4e22-9cc6-402f9c3e8eb6",
   "metadata": {},
   "source": [
    "## Part e"
   ]
  },
  {
   "cell_type": "code",
   "execution_count": 30,
   "id": "45e057e0-97a4-49a8-bcea-a0f2f0b8e793",
   "metadata": {},
   "outputs": [
    {
     "name": "stdout",
     "output_type": "stream",
     "text": [
      "Average Grade: 80.25\n"
     ]
    }
   ],
   "source": [
    "grades = {\n",
    "    \"ayesha\": 84,\n",
    "    \"fatima\": 93,\n",
    "    \"ali\": 76,\n",
    "    \"amna\": 68\n",
    "}\n",
    "\n",
    "total = sum(grades.values())\n",
    "average = total / len(grades)\n",
    "\n",
    "print(f\"Average Grade: {average}\")\n"
   ]
  },
  {
   "cell_type": "markdown",
   "id": "03d1757e-664d-40dc-8ae0-bc04b90e9e25",
   "metadata": {},
   "source": [
    "## Part f"
   ]
  },
  {
   "cell_type": "code",
   "execution_count": 37,
   "id": "f0eab45d-dec8-41e1-957c-5733d66f6560",
   "metadata": {},
   "outputs": [
    {
     "name": "stdout",
     "output_type": "stream",
     "text": [
      "Total inventory value: 460\n",
      "Low Stock Items:\n",
      "books : 4 left\n",
      "pens : 3 left\n",
      "markers : 2 left\n"
     ]
    }
   ],
   "source": [
    "inventory = {}\n",
    "inventory[\"books\"] = [10, 50]     # [quantity, price]\n",
    "inventory[\"pens\"] = [3, 20]\n",
    "inventory[\"markers\"] = [2, 100]\n",
    "\n",
    "inventory[\"books\"][0] = 4\n",
    "\n",
    "total = 0\n",
    "for key, value in inventory.items():\n",
    "    quantity = value[0]\n",
    "    price = value[1]\n",
    "    total += quantity * price\n",
    "print(\"Total inventory value:\", total)\n",
    "\n",
    "print(\"Low Stock Items:\")\n",
    "for key, value in inventory.items():\n",
    "    if value[0] < 5:\n",
    "        print( key, \":\", value[0], \"left\")\n"
   ]
  },
  {
   "cell_type": "markdown",
   "id": "576c4650-226e-4b14-929d-ddf763ef8731",
   "metadata": {},
   "source": [
    "## Part g"
   ]
  },
  {
   "cell_type": "code",
   "execution_count": 39,
   "id": "bed644c3-690f-4079-b972-5959dc39273f",
   "metadata": {},
   "outputs": [
    {
     "name": "stdout",
     "output_type": "stream",
     "text": [
      "Averages:\n",
      "Ali = 85.0\n",
      "Sara = 87.3\n",
      "Ahmed = 75.0\n",
      "\n",
      "Highest in Math: Sara - 90\n",
      "Lowest in Math: Ahmed - 70\n",
      "\n",
      "Sorted by average:\n",
      "Sara = 87.3\n",
      "Ali = 85.0\n",
      "Ahmed = 75.0\n"
     ]
    }
   ],
   "source": [
    "gradebook = {\n",
    "    \"Ali\": {\"Math\": 85, \"Eng\": 78, \"Sci\": 92},\n",
    "    \"Sara\": {\"Math\": 90, \"Eng\": 88, \"Sci\": 84},\n",
    "    \"Ahmed\": {\"Math\": 70, \"Eng\": 75, \"Sci\": 80}\n",
    "}\n",
    "\n",
    "averages = {}\n",
    "for name, subjects in gradebook.items():\n",
    "    avg = sum(subjects.values()) / len(subjects)\n",
    "    averages[name] = avg\n",
    "\n",
    "print(\"Averages:\")\n",
    "for name, avg in averages.items():\n",
    "    print(name, \"=\", round(avg, 1))\n",
    "\n",
    "subject = \"Math\"\n",
    "high = max(gradebook.items(), key=lambda x: x[1][subject])\n",
    "low = min(gradebook.items(), key=lambda x: x[1][subject])\n",
    "\n",
    "print(\"\\nHighest in\", subject + \":\", high[0], \"-\", high[1][subject])\n",
    "print(\"Lowest in\", subject + \":\", low[0], \"-\", low[1][subject])\n",
    "\n",
    "print(\"\\nSorted by average:\")\n",
    "for name, avg in sorted(averages.items(), key=lambda x: x[1], reverse=True):\n",
    "    print(name, \"=\", round(avg, 1))\n"
   ]
  },
  {
   "cell_type": "markdown",
   "id": "12c857a9-ef55-4fd4-b2ce-a1e4eeba3032",
   "metadata": {},
   "source": [
    "## Part h"
   ]
  },
  {
   "cell_type": "code",
   "execution_count": 41,
   "id": "997db9b8-f9f6-41e9-b82c-532830888e7d",
   "metadata": {},
   "outputs": [
    {
     "name": "stdout",
     "output_type": "stream",
     "text": [
      "Your Cart:\n",
      "Laptop: 2 x $1000 = $2000\n",
      "Headphones: 1 x $150 = $150\n",
      "\n",
      "Subtotal: $2150\n",
      "Discount (10%): -$215.0\n",
      "Tax (15%): +$322.5\n",
      "Final Total: $2257.5\n"
     ]
    }
   ],
   "source": [
    "products = {\n",
    "    \"Laptop\": {\"price\": 1000, \"quantity\": 10},\n",
    "    \"Headphones\": {\"price\": 150, \"quantity\": 50},\n",
    "    \"Smartphone\": {\"price\": 500, \"quantity\": 30}\n",
    "}\n",
    "\n",
    "cart = {\n",
    "    \"Laptop\": 2,\n",
    "    \"Headphones\": 1\n",
    "}\n",
    "\n",
    "total_cost = sum(products[item][\"price\"] * quantity for item, quantity in cart.items())\n",
    "\n",
    "discount_percentage = 10\n",
    "tax_percentage = 15\n",
    "discount = total_cost * (discount_percentage / 100)\n",
    "tax = total_cost * (tax_percentage / 100)\n",
    "\n",
    "final_total = total_cost - discount + tax\n",
    "\n",
    "print(\"Your Cart:\")\n",
    "for item, quantity in cart.items():\n",
    "    print(f\"{item}: {quantity} x ${products[item]['price']} = ${products[item]['price'] * quantity}\")\n",
    "print(f\"\\nSubtotal: ${total_cost}\")\n",
    "print(f\"Discount ({discount_percentage}%): -${discount}\")\n",
    "print(f\"Tax ({tax_percentage}%): +${tax}\")\n",
    "print(f\"Final Total: ${final_total}\")\n"
   ]
  },
  {
   "cell_type": "code",
   "execution_count": null,
   "id": "540b22e5-7daf-4e74-a779-e5e5f1e34b05",
   "metadata": {},
   "outputs": [],
   "source": []
  }
 ],
 "metadata": {
  "kernelspec": {
   "display_name": "Python [conda env:base] *",
   "language": "python",
   "name": "conda-base-py"
  },
  "language_info": {
   "codemirror_mode": {
    "name": "ipython",
    "version": 3
   },
   "file_extension": ".py",
   "mimetype": "text/x-python",
   "name": "python",
   "nbconvert_exporter": "python",
   "pygments_lexer": "ipython3",
   "version": "3.12.7"
  }
 },
 "nbformat": 4,
 "nbformat_minor": 5
}
